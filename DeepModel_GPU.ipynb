{
  "nbformat": 4,
  "nbformat_minor": 0,
  "metadata": {
    "colab": {
      "name": "DeepModel_GPU.ipynb",
      "provenance": [],
      "collapsed_sections": []
    },
    "kernelspec": {
      "display_name": "Python 3",
      "language": "python",
      "name": "python3"
    },
    "language_info": {
      "codemirror_mode": {
        "name": "ipython",
        "version": 3
      },
      "file_extension": ".py",
      "mimetype": "text/x-python",
      "name": "python",
      "nbconvert_exporter": "python",
      "pygments_lexer": "ipython3",
      "version": "3.7.4"
    },
    "widgets": {
      "application/vnd.jupyter.widget-state+json": {
        "cca6545d689344a68abd93983b6655ef": {
          "model_module": "@jupyter-widgets/controls",
          "model_name": "HBoxModel",
          "state": {
            "_view_name": "HBoxView",
            "_dom_classes": [],
            "_model_name": "HBoxModel",
            "_view_module": "@jupyter-widgets/controls",
            "_model_module_version": "1.5.0",
            "_view_count": null,
            "_view_module_version": "1.5.0",
            "box_style": "",
            "layout": "IPY_MODEL_2ff1fb290bb645bc9a5e0c9a7e66f556",
            "_model_module": "@jupyter-widgets/controls",
            "children": [
              "IPY_MODEL_7468dc52082b439ca9e28f870403ba1f",
              "IPY_MODEL_84b62c3ffd6e41dba07224d677523a79"
            ]
          }
        },
        "2ff1fb290bb645bc9a5e0c9a7e66f556": {
          "model_module": "@jupyter-widgets/base",
          "model_name": "LayoutModel",
          "state": {
            "_view_name": "LayoutView",
            "grid_template_rows": null,
            "right": null,
            "justify_content": null,
            "_view_module": "@jupyter-widgets/base",
            "overflow": null,
            "_model_module_version": "1.2.0",
            "_view_count": null,
            "flex_flow": null,
            "width": null,
            "min_width": null,
            "border": null,
            "align_items": null,
            "bottom": null,
            "_model_module": "@jupyter-widgets/base",
            "top": null,
            "grid_column": null,
            "overflow_y": null,
            "overflow_x": null,
            "grid_auto_flow": null,
            "grid_area": null,
            "grid_template_columns": null,
            "flex": null,
            "_model_name": "LayoutModel",
            "justify_items": null,
            "grid_row": null,
            "max_height": null,
            "align_content": null,
            "visibility": null,
            "align_self": null,
            "height": null,
            "min_height": null,
            "padding": null,
            "grid_auto_rows": null,
            "grid_gap": null,
            "max_width": null,
            "order": null,
            "_view_module_version": "1.2.0",
            "grid_template_areas": null,
            "object_position": null,
            "object_fit": null,
            "grid_auto_columns": null,
            "margin": null,
            "display": null,
            "left": null
          }
        },
        "7468dc52082b439ca9e28f870403ba1f": {
          "model_module": "@jupyter-widgets/controls",
          "model_name": "FloatProgressModel",
          "state": {
            "_view_name": "ProgressView",
            "style": "IPY_MODEL_82a8168367a24f538718ba7e3f6ac9e7",
            "_dom_classes": [],
            "description": "100%",
            "_model_name": "FloatProgressModel",
            "bar_style": "success",
            "max": 244418560,
            "_view_module": "@jupyter-widgets/controls",
            "_model_module_version": "1.5.0",
            "value": 244418560,
            "_view_count": null,
            "_view_module_version": "1.5.0",
            "orientation": "horizontal",
            "min": 0,
            "description_tooltip": null,
            "_model_module": "@jupyter-widgets/controls",
            "layout": "IPY_MODEL_6b5323c850b44010bc428776457840c5"
          }
        },
        "84b62c3ffd6e41dba07224d677523a79": {
          "model_module": "@jupyter-widgets/controls",
          "model_name": "HTMLModel",
          "state": {
            "_view_name": "HTMLView",
            "style": "IPY_MODEL_87ab4dcccdff4da2a4e40587ae82cd9e",
            "_dom_classes": [],
            "description": "",
            "_model_name": "HTMLModel",
            "placeholder": "​",
            "_view_module": "@jupyter-widgets/controls",
            "_model_module_version": "1.5.0",
            "value": " 233M/233M [1:30:33&lt;00:00, 45.0kB/s]",
            "_view_count": null,
            "_view_module_version": "1.5.0",
            "description_tooltip": null,
            "_model_module": "@jupyter-widgets/controls",
            "layout": "IPY_MODEL_3f8f1a3bc6ca4570ad6fddd1bb6affad"
          }
        },
        "82a8168367a24f538718ba7e3f6ac9e7": {
          "model_module": "@jupyter-widgets/controls",
          "model_name": "ProgressStyleModel",
          "state": {
            "_view_name": "StyleView",
            "_model_name": "ProgressStyleModel",
            "description_width": "initial",
            "_view_module": "@jupyter-widgets/base",
            "_model_module_version": "1.5.0",
            "_view_count": null,
            "_view_module_version": "1.2.0",
            "bar_color": null,
            "_model_module": "@jupyter-widgets/controls"
          }
        },
        "6b5323c850b44010bc428776457840c5": {
          "model_module": "@jupyter-widgets/base",
          "model_name": "LayoutModel",
          "state": {
            "_view_name": "LayoutView",
            "grid_template_rows": null,
            "right": null,
            "justify_content": null,
            "_view_module": "@jupyter-widgets/base",
            "overflow": null,
            "_model_module_version": "1.2.0",
            "_view_count": null,
            "flex_flow": null,
            "width": null,
            "min_width": null,
            "border": null,
            "align_items": null,
            "bottom": null,
            "_model_module": "@jupyter-widgets/base",
            "top": null,
            "grid_column": null,
            "overflow_y": null,
            "overflow_x": null,
            "grid_auto_flow": null,
            "grid_area": null,
            "grid_template_columns": null,
            "flex": null,
            "_model_name": "LayoutModel",
            "justify_items": null,
            "grid_row": null,
            "max_height": null,
            "align_content": null,
            "visibility": null,
            "align_self": null,
            "height": null,
            "min_height": null,
            "padding": null,
            "grid_auto_rows": null,
            "grid_gap": null,
            "max_width": null,
            "order": null,
            "_view_module_version": "1.2.0",
            "grid_template_areas": null,
            "object_position": null,
            "object_fit": null,
            "grid_auto_columns": null,
            "margin": null,
            "display": null,
            "left": null
          }
        },
        "87ab4dcccdff4da2a4e40587ae82cd9e": {
          "model_module": "@jupyter-widgets/controls",
          "model_name": "DescriptionStyleModel",
          "state": {
            "_view_name": "StyleView",
            "_model_name": "DescriptionStyleModel",
            "description_width": "",
            "_view_module": "@jupyter-widgets/base",
            "_model_module_version": "1.5.0",
            "_view_count": null,
            "_view_module_version": "1.2.0",
            "_model_module": "@jupyter-widgets/controls"
          }
        },
        "3f8f1a3bc6ca4570ad6fddd1bb6affad": {
          "model_module": "@jupyter-widgets/base",
          "model_name": "LayoutModel",
          "state": {
            "_view_name": "LayoutView",
            "grid_template_rows": null,
            "right": null,
            "justify_content": null,
            "_view_module": "@jupyter-widgets/base",
            "overflow": null,
            "_model_module_version": "1.2.0",
            "_view_count": null,
            "flex_flow": null,
            "width": null,
            "min_width": null,
            "border": null,
            "align_items": null,
            "bottom": null,
            "_model_module": "@jupyter-widgets/base",
            "top": null,
            "grid_column": null,
            "overflow_y": null,
            "overflow_x": null,
            "grid_auto_flow": null,
            "grid_area": null,
            "grid_template_columns": null,
            "flex": null,
            "_model_name": "LayoutModel",
            "justify_items": null,
            "grid_row": null,
            "max_height": null,
            "align_content": null,
            "visibility": null,
            "align_self": null,
            "height": null,
            "min_height": null,
            "padding": null,
            "grid_auto_rows": null,
            "grid_gap": null,
            "max_width": null,
            "order": null,
            "_view_module_version": "1.2.0",
            "grid_template_areas": null,
            "object_position": null,
            "object_fit": null,
            "grid_auto_columns": null,
            "margin": null,
            "display": null,
            "left": null
          }
        }
      }
    }
  },
  "cells": [
    {
      "cell_type": "markdown",
      "metadata": {
        "colab_type": "text",
        "id": "QLLMlC3h186B"
      },
      "source": [
        "## 1. Mount Google Drive to Google Colab"
      ]
    },
    {
      "cell_type": "code",
      "metadata": {
        "colab_type": "code",
        "id": "v2z8ddlg2FkD",
        "colab": {}
      },
      "source": [
        "from google.colab import drive\n",
        "drive.mount('/content/drive')"
      ],
      "execution_count": null,
      "outputs": []
    },
    {
      "cell_type": "markdown",
      "metadata": {
        "colab_type": "text",
        "id": "az-gNnUCz3ho"
      },
      "source": [
        "## 2. Split folders with images into train and test folders."
      ]
    },
    {
      "cell_type": "code",
      "metadata": {
        "colab_type": "code",
        "id": "uHXGjS4KClzP",
        "colab": {}
      },
      "source": [
        "# !pip install split-folders\n",
        "# import split_folders\n",
        "# pre_data_dir = '/content/drive/My Drive/color/'\n",
        "# data_dir = '/content/drive/My Drive/color_split/'\n",
        "# split_folders.ratio(pre_data_dir, output=data_dir, seed=1337, ratio=(.1, .9))"
      ],
      "execution_count": null,
      "outputs": []
    },
    {
      "cell_type": "markdown",
      "metadata": {
        "colab_type": "text",
        "id": "_ogxR6VF25G0"
      },
      "source": [
        "## 3. Build a Deep Learning model using a pretrained model \n",
        "\n",
        "We choose **AlexNet** model and use a Feature Extraction Transfer Learning to train it and build our model. We will freeze the weights for all of the network except that of the final fully connected layer. This last fully connected layer is replaced with a new one with random weights and only this layer is trained."
      ]
    },
    {
      "cell_type": "markdown",
      "metadata": {
        "colab_type": "text",
        "id": "zMRBnUQO6Gbs"
      },
      "source": [
        "### 3.1. Import necessary libraries"
      ]
    },
    {
      "cell_type": "code",
      "metadata": {
        "colab_type": "code",
        "id": "FcavL3lp300b",
        "colab": {}
      },
      "source": [
        "import torch\n",
        "import torch.nn as nn\n",
        "import torch.optim as optim\n",
        "\n",
        "import numpy as np\n",
        "\n",
        "import torchvision\n",
        "from torchvision import datasets, models, transforms\n",
        "\n",
        "import matplotlib.pyplot as plt\n",
        "\n",
        "import os\n",
        "import time\n",
        "import copy"
      ],
      "execution_count": null,
      "outputs": []
    },
    {
      "cell_type": "markdown",
      "metadata": {
        "colab_type": "text",
        "id": "ZJwUhK4iJ3HN"
      },
      "source": [
        "### 3.2. Specify the input parameters"
      ]
    },
    {
      "cell_type": "code",
      "metadata": {
        "colab_type": "code",
        "id": "fN0fowv19u_j",
        "colab": {}
      },
      "source": [
        "# The format of the data directory conforms to the ImageFolder structure\n",
        "data_dir = '/content/drive/My Drive/PlantVillage/raw/color_split/'\n",
        "# data_dir = os.getcwd()+'/PlantVillage/raw/color_split/'\n",
        "\n",
        "\n",
        "# A CNN model to choose \n",
        "model_name = 'alexnet'\n",
        "\n",
        "# Number of classes in the dataset\n",
        "num_classes = 38\n",
        "\n",
        "# Batch size for training (change depending on how much memory you have)\n",
        "batch_size = 134\n",
        "\n",
        "# Number of epochs to train for\n",
        "num_epochs = 30\n",
        "\n",
        "# Flag for feature extracting. When True we only update the reshaped layer params\n",
        "feature_extract = True"
      ],
      "execution_count": null,
      "outputs": []
    },
    {
      "cell_type": "code",
      "metadata": {
        "colab_type": "code",
        "id": "MnYWTSEwIaP9",
        "colab": {
          "base_uri": "https://localhost:8080/",
          "height": 35
        },
        "outputId": "dea3b59b-3936-4e4b-bd64-1a036346e939"
      },
      "source": [
        "torch.cuda.get_device_name(0)"
      ],
      "execution_count": null,
      "outputs": [
        {
          "output_type": "execute_result",
          "data": {
            "text/plain": [
              "'Tesla P100-PCIE-16GB'"
            ]
          },
          "metadata": {
            "tags": []
          },
          "execution_count": 5
        }
      ]
    },
    {
      "cell_type": "markdown",
      "metadata": {
        "colab_type": "text",
        "id": "YVvMk2blKD67"
      },
      "source": [
        "### 3.3. Load data"
      ]
    },
    {
      "cell_type": "code",
      "metadata": {
        "colab_type": "code",
        "id": "z-n6JhLj2fDD",
        "colab": {
          "base_uri": "https://localhost:8080/",
          "height": 35
        },
        "outputId": "2b8e7493-12b1-4284-924e-c9cf89b28f4b"
      },
      "source": [
        "# Training: Data aumentation and normalization\n",
        "# Validation: Just normalization\n",
        "data_transforms = {\n",
        "    'train': transforms.Compose([\n",
        "        transforms.RandomResizedCrop(224),\n",
        "        transforms.RandomHorizontalFlip(),\n",
        "        transforms.ToTensor(),\n",
        "        transforms.Normalize(mean=[0.485, 0.456, 0.406], std=[0.229, 0.224, 0.225])\n",
        "    ]),\n",
        "    'val': transforms.Compose([\n",
        "        transforms.Resize(256),\n",
        "        transforms.CenterCrop(224),\n",
        "        transforms.ToTensor(),\n",
        "        transforms.Normalize(mean=[0.485, 0.456, 0.406], std=[0.229, 0.224, 0.225])\n",
        "    ]),\n",
        "}\n",
        "\n",
        "print(\"Initializing Traning and Validation Datasets and Dataloaders...\")\n",
        "\n",
        "# Create training and validation datasets\n",
        "image_datasets = {x: datasets.ImageFolder(os.path.join(data_dir, x), data_transforms[x]) for x in ['train', 'val']}\n",
        "# Create training and validation dataloaders\n",
        "dataloaders_dict = {x: torch.utils.data.DataLoader(image_datasets[x], batch_size=batch_size, shuffle=True, num_workers=4) for x in ['train', 'val']}\n",
        "\n",
        "# Detect if we have a GPU available\n",
        "device = torch.device(\"cuda:0\" if torch.cuda.is_available() else \"cpu\")"
      ],
      "execution_count": null,
      "outputs": [
        {
          "output_type": "stream",
          "text": [
            "Initializing Traning and Validation Datasets and Dataloaders...\n"
          ],
          "name": "stdout"
        }
      ]
    },
    {
      "cell_type": "code",
      "metadata": {
        "colab_type": "code",
        "id": "9ToqijD-Ir5E",
        "colab": {
          "base_uri": "https://localhost:8080/",
          "height": 35
        },
        "outputId": "8dbcfde5-e26c-4cd5-ebb4-968224313e10"
      },
      "source": [
        "device"
      ],
      "execution_count": null,
      "outputs": [
        {
          "output_type": "execute_result",
          "data": {
            "text/plain": [
              "device(type='cuda', index=0)"
            ]
          },
          "metadata": {
            "tags": []
          },
          "execution_count": 8
        }
      ]
    },
    {
      "cell_type": "markdown",
      "metadata": {
        "colab_type": "text",
        "id": "dv8pn4L0QKK_"
      },
      "source": [
        "### 3.4 Choose, reshape, and initialize a model (i.e., AlexNet) "
      ]
    },
    {
      "cell_type": "code",
      "metadata": {
        "colab_type": "code",
        "id": "IN6L3A0KQ6MH",
        "colab": {
          "base_uri": "https://localhost:8080/",
          "height": 570,
          "referenced_widgets": [
            "cca6545d689344a68abd93983b6655ef",
            "2ff1fb290bb645bc9a5e0c9a7e66f556",
            "7468dc52082b439ca9e28f870403ba1f",
            "84b62c3ffd6e41dba07224d677523a79",
            "82a8168367a24f538718ba7e3f6ac9e7",
            "6b5323c850b44010bc428776457840c5",
            "87ab4dcccdff4da2a4e40587ae82cd9e",
            "3f8f1a3bc6ca4570ad6fddd1bb6affad"
          ]
        },
        "outputId": "fd312f3c-c42b-4870-9269-9c97900674b5"
      },
      "source": [
        "def initialize_alexnet(model_name, num_classes, feature_extract=True, use_pretrained=True):\n",
        "\n",
        "  model_ft = None\n",
        "  input_size = 0\n",
        "\n",
        "  if model_name == \"alexnet\":\n",
        "    model_ft = models.alexnet(pretrained=use_pretrained)\n",
        "\n",
        "    # Freeze the weigths of the network if feauture_extract flag is True \n",
        "    if feature_extract:\n",
        "        for param in model_ft.parameters():\n",
        "            param.requires_grad = False\n",
        "    \n",
        "    # Reshape the last layer of the model: FC7(4096 neurons) --> FC8(38 neurons)\n",
        "    # By default, require_grads is True for this new layer\n",
        "    num_ftrs = model_ft.classifier[6].in_features\n",
        "    model_ft.classifier[6] = nn.Linear(num_ftrs,num_classes)\n",
        "\n",
        "    # AlexNet requires the input size to be (224,224)\n",
        "    input_size = 224\n",
        "  else:\n",
        "        print(\"Invalid model name!\")\n",
        "        exit()\n",
        "\n",
        "  return model_ft,input_size\n",
        "\n",
        "# Choose the pretrained alexnet model and initialize it proper to our problem  \n",
        "model_ft, input_size = initialize_alexnet(model_name, num_classes, feature_extract)\n",
        "\n",
        "print(model_ft)\n",
        "\n"
      ],
      "execution_count": null,
      "outputs": [
        {
          "output_type": "stream",
          "text": [
            "Downloading: \"https://download.pytorch.org/models/alexnet-owt-4df8aa71.pth\" to /root/.cache/torch/checkpoints/alexnet-owt-4df8aa71.pth\n"
          ],
          "name": "stderr"
        },
        {
          "output_type": "display_data",
          "data": {
            "application/vnd.jupyter.widget-view+json": {
              "model_id": "cca6545d689344a68abd93983b6655ef",
              "version_minor": 0,
              "version_major": 2
            },
            "text/plain": [
              "HBox(children=(FloatProgress(value=0.0, max=244418560.0), HTML(value='')))"
            ]
          },
          "metadata": {
            "tags": []
          }
        },
        {
          "output_type": "stream",
          "text": [
            "\n",
            "AlexNet(\n",
            "  (features): Sequential(\n",
            "    (0): Conv2d(3, 64, kernel_size=(11, 11), stride=(4, 4), padding=(2, 2))\n",
            "    (1): ReLU(inplace=True)\n",
            "    (2): MaxPool2d(kernel_size=3, stride=2, padding=0, dilation=1, ceil_mode=False)\n",
            "    (3): Conv2d(64, 192, kernel_size=(5, 5), stride=(1, 1), padding=(2, 2))\n",
            "    (4): ReLU(inplace=True)\n",
            "    (5): MaxPool2d(kernel_size=3, stride=2, padding=0, dilation=1, ceil_mode=False)\n",
            "    (6): Conv2d(192, 384, kernel_size=(3, 3), stride=(1, 1), padding=(1, 1))\n",
            "    (7): ReLU(inplace=True)\n",
            "    (8): Conv2d(384, 256, kernel_size=(3, 3), stride=(1, 1), padding=(1, 1))\n",
            "    (9): ReLU(inplace=True)\n",
            "    (10): Conv2d(256, 256, kernel_size=(3, 3), stride=(1, 1), padding=(1, 1))\n",
            "    (11): ReLU(inplace=True)\n",
            "    (12): MaxPool2d(kernel_size=3, stride=2, padding=0, dilation=1, ceil_mode=False)\n",
            "  )\n",
            "  (avgpool): AdaptiveAvgPool2d(output_size=(6, 6))\n",
            "  (classifier): Sequential(\n",
            "    (0): Dropout(p=0.5, inplace=False)\n",
            "    (1): Linear(in_features=9216, out_features=4096, bias=True)\n",
            "    (2): ReLU(inplace=True)\n",
            "    (3): Dropout(p=0.5, inplace=False)\n",
            "    (4): Linear(in_features=4096, out_features=4096, bias=True)\n",
            "    (5): ReLU(inplace=True)\n",
            "    (6): Linear(in_features=4096, out_features=38, bias=True)\n",
            "  )\n",
            ")\n"
          ],
          "name": "stdout"
        }
      ]
    },
    {
      "cell_type": "markdown",
      "metadata": {
        "colab_type": "text",
        "id": "uJ5n4G4GgVJi"
      },
      "source": [
        "### 3.5. Create the optimizer\n",
        " We create an optimizer that only updates the desired parameters."
      ]
    },
    {
      "cell_type": "code",
      "metadata": {
        "colab_type": "code",
        "id": "dgH_u74xd8RB",
        "colab": {
          "base_uri": "https://localhost:8080/",
          "height": 69
        },
        "outputId": "689f2eae-4075-481e-8293-e6feb98ef9d0"
      },
      "source": [
        "# Send the model to GPU\n",
        "model_ft = model_ft.to(device)\n",
        "\n",
        "params_to_update = model_ft.parameters()\n",
        "print(\"Params to learn:\")\n",
        "if feature_extract:\n",
        "    params_to_update = []\n",
        "    for name,param in model_ft.named_parameters():\n",
        "        if param.requires_grad == True:\n",
        "            params_to_update.append(param)\n",
        "            print(\"\\t\",name)\n",
        "else:\n",
        "    for name,param in model_ft.named_parameters():\n",
        "        if param.requires_grad == True:\n",
        "            print(\"\\t\",name)\n",
        "\n",
        "# Observe that all parameters are being optimized\n",
        "optimizer_ft = optim.SGD(params_to_update, lr=0.01, momentum=0.9)"
      ],
      "execution_count": null,
      "outputs": [
        {
          "output_type": "stream",
          "text": [
            "Params to learn:\n",
            "\t classifier.6.weight\n",
            "\t classifier.6.bias\n"
          ],
          "name": "stdout"
        }
      ]
    },
    {
      "cell_type": "markdown",
      "metadata": {
        "colab_type": "text",
        "id": "DkoV1DR2hPBo"
      },
      "source": [
        "As we see, only the last layer parameters should be learned."
      ]
    },
    {
      "cell_type": "markdown",
      "metadata": {
        "colab_type": "text",
        "id": "s-7RrLVAh-BC"
      },
      "source": [
        "### 3.6. Training and evaluation"
      ]
    },
    {
      "cell_type": "code",
      "metadata": {
        "colab_type": "code",
        "id": "A7ZnA29WidcM",
        "colab": {
          "base_uri": "https://localhost:8080/",
          "height": 1000
        },
        "outputId": "fdcadd4c-12c7-4eb2-8e1b-844a4f5ffff2"
      },
      "source": [
        "def train_model(model, dataloaders, criterion, optimizer, num_epochs=25):\n",
        "    since = time.time()\n",
        "\n",
        "    val_acc_history = []\n",
        "    train_acc_history = []\n",
        "\n",
        "    best_model_wts = copy.deepcopy(model.state_dict())\n",
        "    best_acc = 0.0\n",
        "\n",
        "    for epoch in range(num_epochs):\n",
        "        print('Epoch {}/{}'.format(epoch, num_epochs - 1))\n",
        "        print('-' * 10)\n",
        "\n",
        "        # Each epoch has a training and validation phase\n",
        "        for phase in ['train', 'val']:\n",
        "            if phase == 'train':\n",
        "                model.train()  # Set model to training mode\n",
        "            else:\n",
        "                model.eval()   # Set model to evaluate mode\n",
        "\n",
        "            running_loss = 0.0\n",
        "            running_corrects = 0\n",
        "\n",
        "            # Iterate over data.\n",
        "            for inputs, labels in dataloaders[phase]:\n",
        "                inputs = inputs.to(device)\n",
        "                labels = labels.to(device)\n",
        "\n",
        "                # zero the parameter gradients\n",
        "                optimizer.zero_grad()\n",
        "\n",
        "                # forward\n",
        "                # track history if only in train\n",
        "                with torch.set_grad_enabled(phase == 'train'):\n",
        "                    # Get model outputs and calculate loss\n",
        "                    outputs = model(inputs)\n",
        "                    loss = criterion(outputs, labels)\n",
        "\n",
        "                    _, preds = torch.max(outputs, 1)\n",
        "\n",
        "                    # backward + optimize only if in training phase\n",
        "                    if phase == 'train':\n",
        "                        loss.backward()\n",
        "                        optimizer.step()\n",
        "\n",
        "                # statistics\n",
        "                running_loss += loss.item() * inputs.size(0)\n",
        "                running_corrects += torch.sum(preds == labels.data)\n",
        "\n",
        "            epoch_loss = running_loss / len(dataloaders[phase].dataset)\n",
        "            epoch_acc = running_corrects.double() / len(dataloaders[phase].dataset)\n",
        "\n",
        "            print('{} Loss: {:.4f} Acc: {:.4f}'.format(phase, epoch_loss, epoch_acc))\n",
        "\n",
        "            # deep copy the model\n",
        "            if phase == 'val' and epoch_acc > best_acc:\n",
        "                best_acc = epoch_acc\n",
        "                best_model_wts = copy.deepcopy(model.state_dict())\n",
        "            if phase == 'val':\n",
        "                val_acc_history.append(epoch_acc)\n",
        "            else: \n",
        "                train_acc_history.append(epoch_acc)\n",
        "\n",
        "        print()\n",
        "\n",
        "    time_elapsed = time.time() - since\n",
        "    print('Training complete in {:.0f}m {:.0f}s'.format(time_elapsed // 60, time_elapsed % 60))\n",
        "    print('Best val Acc: {:4f}'.format(best_acc))\n",
        "\n",
        "    # load best model weights\n",
        "    model.load_state_dict(best_model_wts)\n",
        "    return model, val_acc_history, train_acc_history\n",
        "\n",
        "\n",
        "\n",
        "\n",
        "# Loss Fuction would be Cross Entropy, as we are doing classification\n",
        "criterion = nn.CrossEntropyLoss()\n",
        "\n",
        "# Trans the model and evaluate it\n",
        "model_ft, val_hist, train_hist = train_model(model_ft, dataloaders_dict, criterion, optimizer_ft, num_epochs=num_epochs)"
      ],
      "execution_count": null,
      "outputs": [
        {
          "output_type": "stream",
          "text": [
            "Epoch 0/29\n",
            "----------\n",
            "train Loss: 2.1595 Acc: 0.4274\n",
            "val Loss: 0.9647 Acc: 0.7260\n",
            "\n",
            "Epoch 1/29\n",
            "----------\n",
            "train Loss: 1.1745 Acc: 0.6645\n",
            "val Loss: 0.8221 Acc: 0.7704\n",
            "\n",
            "Epoch 2/29\n",
            "----------\n",
            "train Loss: 0.9634 Acc: 0.7123\n",
            "val Loss: 0.7494 Acc: 0.7877\n",
            "\n",
            "Epoch 3/29\n",
            "----------\n",
            "train Loss: 0.9498 Acc: 0.7166\n",
            "val Loss: 0.6569 Acc: 0.8120\n",
            "\n",
            "Epoch 4/29\n",
            "----------\n",
            "train Loss: 0.8636 Acc: 0.7443\n",
            "val Loss: 0.7716 Acc: 0.7880\n",
            "\n",
            "Epoch 5/29\n",
            "----------\n",
            "train Loss: 0.8657 Acc: 0.7439\n",
            "val Loss: 0.6180 Acc: 0.8207\n",
            "\n",
            "Epoch 6/29\n",
            "----------\n",
            "train Loss: 0.7643 Acc: 0.7688\n",
            "val Loss: 0.6119 Acc: 0.8258\n",
            "\n",
            "Epoch 7/29\n",
            "----------\n",
            "train Loss: 0.7640 Acc: 0.7629\n",
            "val Loss: 0.5941 Acc: 0.8356\n",
            "\n",
            "Epoch 8/29\n",
            "----------\n",
            "train Loss: 0.7206 Acc: 0.7801\n",
            "val Loss: 0.5849 Acc: 0.8411\n",
            "\n",
            "Epoch 9/29\n",
            "----------\n",
            "train Loss: 0.7055 Acc: 0.7871\n",
            "val Loss: 0.6816 Acc: 0.8181\n",
            "\n",
            "Epoch 10/29\n",
            "----------\n",
            "train Loss: 0.7338 Acc: 0.7762\n",
            "val Loss: 0.6763 Acc: 0.8267\n",
            "\n",
            "Epoch 11/29\n",
            "----------\n",
            "train Loss: 0.7541 Acc: 0.7715\n",
            "val Loss: 0.5497 Acc: 0.8482\n",
            "\n",
            "Epoch 12/29\n",
            "----------\n",
            "train Loss: 0.6776 Acc: 0.7902\n",
            "val Loss: 0.5557 Acc: 0.8395\n",
            "\n",
            "Epoch 13/29\n",
            "----------\n",
            "train Loss: 0.6193 Acc: 0.8054\n",
            "val Loss: 0.6285 Acc: 0.8360\n",
            "\n",
            "Epoch 14/29\n",
            "----------\n",
            "train Loss: 0.7100 Acc: 0.7828\n",
            "val Loss: 0.5086 Acc: 0.8568\n",
            "\n",
            "Epoch 15/29\n",
            "----------\n",
            "train Loss: 0.6316 Acc: 0.8007\n",
            "val Loss: 0.5427 Acc: 0.8468\n",
            "\n",
            "Epoch 16/29\n",
            "----------\n",
            "train Loss: 0.6491 Acc: 0.8069\n",
            "val Loss: 0.5610 Acc: 0.8494\n",
            "\n",
            "Epoch 17/29\n",
            "----------\n",
            "train Loss: 0.6527 Acc: 0.8062\n",
            "val Loss: 0.6289 Acc: 0.8315\n",
            "\n",
            "Epoch 18/29\n",
            "----------\n",
            "train Loss: 0.6422 Acc: 0.8104\n",
            "val Loss: 0.5613 Acc: 0.8469\n",
            "\n",
            "Epoch 19/29\n",
            "----------\n",
            "train Loss: 0.6073 Acc: 0.8089\n",
            "val Loss: 0.5501 Acc: 0.8461\n",
            "\n",
            "Epoch 20/29\n",
            "----------\n",
            "train Loss: 0.6389 Acc: 0.7991\n",
            "val Loss: 0.5375 Acc: 0.8523\n",
            "\n",
            "Epoch 21/29\n",
            "----------\n",
            "train Loss: 0.6453 Acc: 0.8077\n",
            "val Loss: 0.6411 Acc: 0.8307\n",
            "\n",
            "Epoch 22/29\n",
            "----------\n",
            "train Loss: 0.6002 Acc: 0.8124\n",
            "val Loss: 0.5663 Acc: 0.8413\n",
            "\n",
            "Epoch 23/29\n",
            "----------\n",
            "train Loss: 0.6295 Acc: 0.8155\n",
            "val Loss: 0.5717 Acc: 0.8494\n",
            "\n",
            "Epoch 24/29\n",
            "----------\n",
            "train Loss: 0.5843 Acc: 0.8194\n",
            "val Loss: 0.5698 Acc: 0.8512\n",
            "\n",
            "Epoch 25/29\n",
            "----------\n",
            "train Loss: 0.5875 Acc: 0.8190\n",
            "val Loss: 0.5917 Acc: 0.8512\n",
            "\n",
            "Epoch 26/29\n",
            "----------\n",
            "train Loss: 0.6868 Acc: 0.8007\n",
            "val Loss: 0.5916 Acc: 0.8472\n",
            "\n",
            "Epoch 27/29\n",
            "----------\n",
            "train Loss: 0.5933 Acc: 0.8167\n",
            "val Loss: 0.5207 Acc: 0.8571\n",
            "\n",
            "Epoch 28/29\n",
            "----------\n",
            "train Loss: 0.6212 Acc: 0.8159\n",
            "val Loss: 0.5740 Acc: 0.8466\n",
            "\n",
            "Epoch 29/29\n",
            "----------\n",
            "train Loss: 0.6222 Acc: 0.8139\n",
            "val Loss: 0.6219 Acc: 0.8388\n",
            "\n",
            "Training complete in 85m 22s\n",
            "Best val Acc: 0.857131\n"
          ],
          "name": "stdout"
        }
      ]
    },
    {
      "cell_type": "markdown",
      "metadata": {
        "colab_type": "text",
        "id": "j26tOyDQ_v2w"
      },
      "source": [
        "### 3.7. Learning process \n",
        "Let see how the model learns:"
      ]
    },
    {
      "cell_type": "code",
      "metadata": {
        "id": "3AhosbBx9P8J",
        "colab_type": "code",
        "colab": {
          "base_uri": "https://localhost:8080/",
          "height": 295
        },
        "outputId": "2959b85c-883d-4e95-fdbc-c9e27eecfc1a"
      },
      "source": [
        "plt.title(\"Accuracy vs. Number of Training Epochs\")\n",
        "plt.xlabel(\"Training Epochs\")\n",
        "plt.ylabel(\"Accuracy\")\n",
        "plt.plot(range(1,num_epochs+1),train_hist,label=\"Training\")\n",
        "plt.plot(range(1,num_epochs+1),val_hist,label=\"Validation\")\n",
        "plt.ylim((0,1.))\n",
        "plt.xticks(np.arange(1, num_epochs+1, 1.0))\n",
        "plt.legend()\n",
        "plt.show()"
      ],
      "execution_count": null,
      "outputs": [
        {
          "output_type": "display_data",
          "data": {
            "image/png": "[encoded data removed]",
            "text/plain": [
              "<Figure size 432x288 with 1 Axes>"
            ]
          },
          "metadata": {
            "tags": [],
            "needs_background": "light"
          }
        }
      ]
    },
    {
      "cell_type": "markdown",
      "metadata": {
        "colab_type": "text",
        "id": "RZcF-gn43eEx"
      },
      "source": [
        "### 3.8. Save the trained model \n"
      ]
    },
    {
      "cell_type": "code",
      "metadata": {
        "colab_type": "code",
        "id": "ITWAYp015QdH",
        "colab": {}
      },
      "source": [
        "model_path = '/content/drive/My Drive/dl_model_v2_4inf.sav'\n",
        "# model_path = os.getcwd()+'/dl_model_v2_4inf.sav'\n",
        "torch.save(model_ft.state_dict(), model_path)"
      ],
      "execution_count": null,
      "outputs": []
    },
    {
      "cell_type": "markdown",
      "metadata": {
        "id": "Dv-ZMm05brzH",
        "colab_type": "text"
      },
      "source": [
        "### 3.9. Save label/index pairs consistent to the model"
      ]
    },
    {
      "cell_type": "code",
      "metadata": {
        "id": "rg-4kbQFbrzH",
        "colab_type": "code",
        "colab": {}
      },
      "source": [
        "import pandas as pd\n",
        "\n",
        "labels_path = '/content/drive/My Drive/dl_model_v2_labels.csv'\n",
        "# labels_path = os.getcwd()+'/dl_model_v2_labels.csv'\n",
        "\n",
        "def save_labels(labels_path):\n",
        "    \"\"\"\n",
        "    Save the mapping between labels and index in the model (i.e. exists in ImageFolder) in a csv file\n",
        "    \"\"\"\n",
        "    labels_dict = image_datasets['train'].class_to_idx\n",
        "    labels_df = pd.DataFrame.from_dict(data=labels_dict, orient='index', columns=['idx'])\n",
        "    labels_df['Label'] = labels_df.index # columns=['idx','Label']\n",
        "    labels_df.reset_index(drop=True, inplace=True)\n",
        "    labels_df.to_csv(labels_path, header=None, index=False)\n",
        "\n",
        "save_labels(labels_path)"
      ],
      "execution_count": null,
      "outputs": []
    }
  ]
}